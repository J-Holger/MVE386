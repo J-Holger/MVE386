{
 "cells": [
  {
   "cell_type": "code",
   "execution_count": 1,
   "id": "1f811a03-3f0e-4d31-a7f3-40529d094843",
   "metadata": {},
   "outputs": [],
   "source": [
    "import h5py\n",
    "from string import Template\n",
    "import numpy as np\n",
    "import scipy\n",
    "import os\n",
    "from matplotlib import pyplot as plt, cm\n",
    "#!pip install pyestimate\n",
    "#from pyestimate import sin_param_estimate\n",
    "\n",
    "def integrate_q(data,q,q_roi, norm_sum):\n",
    "    \"\"\"checked by Christian\"\"\"\n",
    "    q_start, q_stop = q_roi\n",
    "    start_index = np.where(q>=q_start)[0][0]\n",
    "    stop_index = np.where(q>=q_stop)[0][0]\n",
    "    azimutal_integrated = np.sum(data[...,start_index:stop_index]*norm_sum[:,start_index:stop_index] ,axis=(2,3))\n",
    "    norm = np.sum(norm_sum[:,start_index:stop_index], axis=(0,1))\n",
    "    output = np.divide(azimutal_integrated ,norm , out=np.zeros_like(azimutal_integrated))\n",
    "    return output\n",
    "\n",
    "def load_data(proposal,visit,scan, det, fly_scan, cluster='maxiv'):\n",
    "    \"\"\"keys in file that will be loaded\n",
    "        **FROM AZINT FILE**\n",
    "        'I' : cake plot from radial integration, ordering (image,azimuthal,q) \n",
    "        'azi', : azimuthal bins\n",
    "        'mask_file', : file path for mask used for radial integration\n",
    "        'norm', : weights/norm sum for computing averages for integrated data, (azimuthal and q)\n",
    "        'polarization_factor', : polarisation factor used for integration\n",
    "        'poni_file', : file path for pony file\n",
    "        'q', : q Vektor for integration\n",
    "        **FROM MASTER FILE**\n",
    "        'i_t', : diode data, transmittance for 2D map\n",
    "        'dt' : exposure time from eiger/lambda/diode\n",
    "        'title' :  scan command from SPOCK\n",
    "        'swaxs_x' : swaxs_x stage position (encoder reading)\n",
    "        'swaxs_y' : swaxs_y stage position (theoretical reading)\n",
    "        'swaxs_rot' : swaxs_y stage position (theoretical reading)\n",
    "        'time' : time point for triggers for exposure\n",
    "    \"\"\"\n",
    "    if cluster == 'maxiv':\n",
    "        fname = '/data/visitors/formax/%s/%s/process/azint/scan-%04d_%s_integrated.h5' %(proposal, visit, scan, det)\n",
    "    elif cluster == 'lunarc':\n",
    "        fname = '/projects/maxiv/visitors/formax/%s/%s/process/azint/scan-%04d_%s_integrated.h5' %(proposal, visit, scan, det)\n",
    "    else:\n",
    "        print(\"Clustername is not recognised\")\n",
    "        \n",
    "    data = {}\n",
    "    items = {\n",
    "         'I': 'entry/data2d/cake',\n",
    "         'q': 'entry/data1d/q',\n",
    "         'azi' : 'entry/data2d/azi',\n",
    "         'mask_file':'entry/azint/input/mask_file',\n",
    "         'norm':'entry/data2d/norm',\n",
    "         'polarization_factor':'entry/azint/input/polarization_factor',\n",
    "         'poni':'entry/azint/input/poni',   \n",
    "    }\n",
    "    with h5py.File(fname, 'r') as fh:\n",
    "        for key, name in items.items():\n",
    "            if name in fh:\n",
    "                data[key] = fh[name][()]  \n",
    "            \n",
    "    # master file\n",
    "    master = fname.replace('process/azint', 'raw')\n",
    "    master = master.replace('_%s_integrated' %det, '')\n",
    "    items = {\n",
    "        'i_t': 'entry/instrument/albaem-e01_ch1/data',   \n",
    "         'title': 'entry/title'                       \n",
    "    }\n",
    "    with h5py.File(master, 'r') as fh:\n",
    "        for key, name in items.items():\n",
    "            if name in fh:\n",
    "                data[key] = fh[name][()]\n",
    "\n",
    "    # fly or step scan\n",
    "    if fly_scan == True:\n",
    "        data['shape'] = (int((str(data['title']).split(' '))[8])+1, int((str(data['title']).split(' '))[4]))\n",
    "    else:\n",
    "        data['shape'] = (int((str(data['title']).split(' '))[8])+1, int((str(data['title']).split(' '))[4])+1)\n",
    "    return data\n"
   ]
  },
  {
   "cell_type": "markdown",
   "id": "183ea35c-c7ab-4620-8fe1-dba090e7fbad",
   "metadata": {},
   "source": [
    "# Parameters (to be defined by user)"
   ]
  },
  {
   "cell_type": "code",
   "execution_count": 10,
   "id": "6c196db9-7960-48b1-9639-c19e1109b08b",
   "metadata": {},
   "outputs": [],
   "source": [
    "scan = 28\n",
    "proposal = 20240661\n",
    "visit = 2024102408\n",
    "#det = 'eiger' # Pick 'eiger' or 'lambda'\n",
    "#q_range = (0.0288,0.030) # Select q_range = (q_min,q_max) for q-dependent plot\n",
    "#q_range = ()\n",
    "\n",
    "det = 'lambda'\n",
    "#q_range = (1.59,1.64)\n",
    "q_range = (1.70,1.80)\n",
    "\n"
   ]
  },
  {
   "cell_type": "code",
   "execution_count": 11,
   "id": "d129e799",
   "metadata": {},
   "outputs": [
    {
     "data": {
      "text/plain": [
       "'meshct_maxiv'"
      ]
     },
     "execution_count": 11,
     "metadata": {},
     "output_type": "execute_result"
    }
   ],
   "source": [
    "\n",
    "fname = '/data/visitors/formax/%s/%s/raw/scan-%04d.h5' %(proposal, visit, scan)\n",
    "fh = h5py.File(fname, 'r')\n",
    "title_str = str(fh['entry/title'][()]).split(' ')\n",
    "title_str\n",
    "title_str[0][2:]"
   ]
  },
  {
   "cell_type": "code",
   "execution_count": null,
   "id": "dc11f9f5",
   "metadata": {},
   "outputs": [],
   "source": []
  },
  {
   "cell_type": "markdown",
   "id": "025bda47-0b3c-4672-b745-1bc7fe66f163",
   "metadata": {
    "tags": []
   },
   "source": [
    "# Data processing"
   ]
  },
  {
   "cell_type": "code",
   "execution_count": 12,
   "id": "2bc10a1e-75b2-4af5-aa28-9eb5ddf2edd6",
   "metadata": {
    "tags": []
   },
   "outputs": [],
   "source": [
    "def process_data(scan, proposal, visit, det, q_range):\n",
    "    #Reading scan parameters\n",
    "    fname = '/data/visitors/formax/%s/%s/raw/scan-%04d.h5' %(proposal, visit, scan)\n",
    "    fh = h5py.File(fname, 'r')\n",
    "    title_str = str(fh['entry/title'][()]).split(' ')\n",
    "    \n",
    "    if title_str[0][2:] == 'meshct_maxiv':\n",
    "        fly_scan = True\n",
    "    else:\n",
    "        fly_scan = False\n",
    "            \n",
    "    if title_str[10][0:4] == 'True':\n",
    "        snake_scan = True\n",
    "    else:\n",
    "        snake_scan = False\n",
    "    \n",
    "    endtime = fh['entry/end_time'][()].decode('utf-8')\n",
    "        \n",
    "    #Loading data\n",
    "    data = load_data(proposal,visit,scan,det, fly_scan)\n",
    "    \n",
    "    # absorption contrast\n",
    "    I = data['i_t'].reshape(data['shape'])\n",
    "    I_flipped = np.copy(I)\n",
    "    if snake_scan == True:\n",
    "        I_flipped[1::2,:] = I_flipped[1::2,::-1]\n",
    "    absorption = I_flipped\n",
    "    \n",
    "    \n",
    "    # dark field\n",
    "    I = data['I'].reshape((data['shape'][0],data['shape'][1],data['azi'].shape[0],data['q'].shape[0]))\n",
    "    \n",
    "    I_flipped = np.copy(I)\n",
    "    if snake_scan == True:\n",
    "        I_flipped[1::2,:,:,:] = I_flipped[1::2,::-1,:,:]\n",
    "    data_scat = I_flipped\n",
    "    total_scattering = np.average(data_scat,axis=(2,3))\n",
    "    \n",
    "    q = data['q']\n",
    "    norm_sum = data['norm']\n",
    "    \n",
    "    #Defining q ranges for background subtraction\n",
    "    q_bg1 = (q_range[0]-(q_range[1]-q_range[0]),q_range[0]) \n",
    "    q_bg2 = (q_range[1],q_range[1]+(q_range[1]-q_range[0])) \n",
    "    \n",
    "    ind_q = list(np.where((q>q_range[0]) & (q<q_range[1]))[0])\n",
    "    ind_bg1 = list(np.where((q>q_bg1[0]) & (q<q_bg1[1]))[0])\n",
    "    ind_bg2 = list(np.where((q>q_bg2[0]) & (q<q_bg2[1]))[0])\n",
    "    \n",
    "    #print(len(ind_q))\n",
    "    #print(len(ind_bg1))\n",
    "    #print(len(ind_bg2))\n",
    "    \n",
    "    # q dependent, background subtracted\n",
    "    image = integrate_q(data_scat,q,q_range,norm_sum)  - 0.5*((len(ind_q)/len(ind_bg1))*integrate_q(data_scat,q,q_bg1,norm_sum) + (len(ind_q)/len(ind_bg2))*integrate_q(data_scat,q,q_bg2,norm_sum))\n",
    "\n",
    "    return absorption, total_scattering, image, endtime\n"
   ]
  },
  {
   "cell_type": "markdown",
   "id": "b39996e9-84c1-48f0-8890-fde96a55dcba",
   "metadata": {
    "tags": []
   },
   "source": [
    "# Plotting"
   ]
  },
  {
   "cell_type": "code",
   "execution_count": 13,
   "id": "bd9a8e75-eaa9-4900-9881-b02bcaf8aecd",
   "metadata": {},
   "outputs": [],
   "source": [
    "def plot_data(scan, proposal, visit, det, absorption, total_scattering, image, text):\n",
    "    fig, (ax1, ax2, ax3) = plt.subplots(1,3,figsize=(25,10))\n",
    "    # title\n",
    "    fig.suptitle('Scan %d, Detector: %s\\n%s' %(scan, det, text), fontsize=16)\n",
    "    # tight layout\n",
    "    # fig.tight_layout()\n",
    "\n",
    "    # absorption\n",
    "    ax1.imshow(absorption)\n",
    "    ax1.title.set_text('Absorption')\n",
    "\n",
    "    # dark field\n",
    "    ax2.imshow(total_scattering)\n",
    "    ax2.title.set_text('Dark field')\n",
    "\n",
    "    #q dependent\n",
    "    ax3.imshow(image)\n",
    "    ax3.title.set_text('q dependent')\n",
    "\n",
    "    #save figure\n",
    "    fig.savefig('/data/visitors/formax/%s/%s/process/images/scan_%d_%s.png' %(proposal, visit, scan, det))"
   ]
  },
  {
   "cell_type": "code",
   "execution_count": 14,
   "id": "930d579c-71ee-4dfe-8479-359d4eec275d",
   "metadata": {},
   "outputs": [
    {
     "name": "stdout",
     "output_type": "stream",
     "text": [
      "process data for scan 70\n",
      "Failed to process scan 70\n",
      "process data for scan 71\n",
      "Failed to process scan 71\n",
      "process data for scan 72\n",
      "Failed to process scan 72\n",
      "process data for scan 73\n",
      "process data for scan 74\n",
      "process data for scan 75\n",
      "process data for scan 76\n",
      "process data for scan 77\n",
      "process data for scan 78\n",
      "process data for scan 79\n"
     ]
    }
   ],
   "source": [
    "folder ='/data/visitors/formax/%s/%s' %(proposal, visit)\n",
    "\n",
    "scans = list(range(70,80))\n",
    "scan_data = []\n",
    "for scan in scans:\n",
    "    print('process data for scan %d' %scan)\n",
    "    try:\n",
    "        absorption, total_scattering, image, endtime = process_data(scan, proposal, visit, det, q_range)\n",
    "        scan_data.append([absorption, total_scattering, image, endtime])\n",
    "    except:\n",
    "        print('Failed to process scan %d' %scan)\n",
    "        scan_data.append(None)\n"
   ]
  },
  {
   "cell_type": "code",
   "execution_count": 15,
   "id": "eece55b9",
   "metadata": {},
   "outputs": [
    {
     "ename": "AttributeError",
     "evalue": "'str' object has no attribute 'strftime'",
     "output_type": "error",
     "traceback": [
      "\u001b[0;31m---------------------------------------------------------------------------\u001b[0m",
      "\u001b[0;31mAttributeError\u001b[0m                            Traceback (most recent call last)",
      "\u001b[0;32m/local/slurmtmp.3830679/ipykernel_1269309/198149750.py\u001b[0m in \u001b[0;36m<cell line: 3>\u001b[0;34m()\u001b[0m\n\u001b[1;32m      1\u001b[0m \u001b[0mscan_data\u001b[0m\u001b[0;34m[\u001b[0m\u001b[0;34m-\u001b[0m\u001b[0;36m1\u001b[0m\u001b[0;34m]\u001b[0m\u001b[0;34m[\u001b[0m\u001b[0;36m3\u001b[0m\u001b[0;34m]\u001b[0m\u001b[0;34m\u001b[0m\u001b[0;34m\u001b[0m\u001b[0m\n\u001b[1;32m      2\u001b[0m \u001b[0mendtime\u001b[0m \u001b[0;34m=\u001b[0m \u001b[0mscan_data\u001b[0m\u001b[0;34m[\u001b[0m\u001b[0;34m-\u001b[0m\u001b[0;36m1\u001b[0m\u001b[0;34m]\u001b[0m\u001b[0;34m[\u001b[0m\u001b[0;36m3\u001b[0m\u001b[0;34m]\u001b[0m\u001b[0;34m\u001b[0m\u001b[0;34m\u001b[0m\u001b[0m\n\u001b[0;32m----> 3\u001b[0;31m \u001b[0mtext\u001b[0m \u001b[0;34m=\u001b[0m \u001b[0;34m'Endtime: %s'\u001b[0m \u001b[0;34m%\u001b[0m\u001b[0;34m(\u001b[0m\u001b[0mendtime\u001b[0m\u001b[0;34m.\u001b[0m\u001b[0mstrftime\u001b[0m\u001b[0;34m(\u001b[0m\u001b[0;34m'%Y-%m-%d %H:%M:%S'\u001b[0m\u001b[0;34m)\u001b[0m\u001b[0;34m)\u001b[0m\u001b[0;34m\u001b[0m\u001b[0;34m\u001b[0m\u001b[0m\n\u001b[0m\u001b[1;32m      4\u001b[0m \u001b[0mtext\u001b[0m\u001b[0;34m\u001b[0m\u001b[0;34m\u001b[0m\u001b[0m\n",
      "\u001b[0;31mAttributeError\u001b[0m: 'str' object has no attribute 'strftime'"
     ]
    }
   ],
   "source": [
    "scan_data[-1][3]\n",
    "endtime = scan_data[-1][3]\n",
    "text = 'Endtime: %s' %(endtime.strftime('%Y-%m-%d %H:%M:%S'))\n",
    "text"
   ]
  },
  {
   "cell_type": "code",
   "execution_count": null,
   "id": "77c66052",
   "metadata": {},
   "outputs": [],
   "source": [
    "\n",
    "for i, scan in enumerate(scans):\n",
    "    try:\n",
    "        absorption, total_scattering, image, endtime = scan_data[i]\n",
    "        print('plotting scan %d' %scan)\n",
    "        text = 'Endtime: %s' %(endtime)\n",
    "        # text = 'Endtime: %s, Temp: %.1f, Hum: %.1f' %(endtime.strftime('%Y-%m-%d %H:%M:%S'), temp, hum)\n",
    "        print(text)\n",
    "        plot_data(scan, proposal, visit, det, absorption, total_scattering, image, text)\n",
    "    except:\n",
    "        print('Failed to plot scan %d' %scan)\n",
    "        continue\n",
    "\n",
    "    "
   ]
  },
  {
   "cell_type": "code",
   "execution_count": null,
   "id": "5a5b0836",
   "metadata": {},
   "outputs": [],
   "source": [
    "import pandas as pd\n",
    "folder ='/data/visitors/formax/%s/%s' %(proposal, visit)\n",
    "\n",
    "RH_file = 'process/tensile_and_humidity/RH_increase_long.txt'\n",
    "headers = ['Elap Time','Set Hum','Read Hum','Wet Flow','Dry Flow','Sensor Temp','Used Temp']\n",
    "RH_data = pd.read_csv(os.path.join(folder, RH_file), delimiter='\\t', skiprows=26, names=headers)\n",
    "# print(RH_data)\n",
    "RH_data['Datetime'] = pd.to_datetime(RH_data['Elap Time'])\n",
    "# change the day for the ones after 20:00:00 to the previous day\n",
    "RH_data.loc[ RH_data['Datetime'].dt.hour >= 20, 'Datetime'] = RH_data['Datetime'] - pd.Timedelta(days=1)\n",
    "RH_data"
   ]
  },
  {
   "cell_type": "code",
   "execution_count": null,
   "id": "f28d3af7",
   "metadata": {},
   "outputs": [],
   "source": [
    "# correlate RH data with scan data\n",
    "import datetime\n",
    "scan_times = [data[3] for data in scan_data]\n",
    "scan_times = [datetime.datetime.fromisoformat(time.decode('utf-8')) for time in scan_times]\n",
    "scan_times\n",
    "\n",
    "temps = []\n",
    "hums = []\n",
    "for i, time in enumerate(scan_times):\n",
    "    print(i, time)\n",
    "    # find the closest time before in RH_data and interpolate the sensor temp and Read Hum\n",
    "    idx = RH_data[RH_data['Datetime'] < time].index[-1]\n",
    "    temps.append(RH_data['Sensor Temp'][idx])\n",
    "    hums.append(RH_data['Read Hum'][idx])\n",
    "\n",
    "# add the temperature and humidity to the scan data, and replace the time with the scan_times\n",
    "for i, data in enumerate(scan_data):\n",
    "    data.append(temps[i])\n",
    "    data.append(hums[i])\n",
    "    data[3] = scan_times[i]\n"
   ]
  },
  {
   "cell_type": "code",
   "execution_count": null,
   "id": "8b8f12ce",
   "metadata": {},
   "outputs": [],
   "source": [
    "scan_data[0]"
   ]
  },
  {
   "cell_type": "code",
   "execution_count": null,
   "id": "665200ae",
   "metadata": {},
   "outputs": [],
   "source": [
    "\n",
    "for i, scan in enumerate(scans):\n",
    "    try:\n",
    "        absorption, total_scattering, image, endtime, = scan_data[i]\n",
    "        print('plotting scan %d' %scan)\n",
    "        text = 'Endtime: %s, Temp: %.1f, Hum: %.1f' %(endtime.strftime('%Y-%m-%d %H:%M:%S'), temp, hum)\n",
    "        print(text)\n",
    "        plot_data(scan, proposal, visit, det, absorption, total_scattering, image, text)\n",
    "    except:\n",
    "        print('Failed to plot scan %d' %scan)\n",
    "        continue\n",
    "\n",
    "    \n",
    "\n",
    "\n"
   ]
  },
  {
   "cell_type": "code",
   "execution_count": null,
   "id": "37a62735-e93f-499d-a337-3036d4fdd6cb",
   "metadata": {},
   "outputs": [],
   "source": [
    "# read tensile data\n"
   ]
  },
  {
   "cell_type": "markdown",
   "id": "16b35712-f023-486d-b3ca-28b9b6e93efb",
   "metadata": {
    "tags": []
   },
   "source": [
    "# Orientation analysis"
   ]
  },
  {
   "cell_type": "markdown",
   "id": "13b2b7b7-3160-4b50-8cc6-9f15227a49f0",
   "metadata": {
    "tags": []
   },
   "source": [
    "### Data processing"
   ]
  },
  {
   "cell_type": "code",
   "execution_count": null,
   "id": "ebb85c96-49fc-4da0-b2c0-2113bdd3c321",
   "metadata": {},
   "outputs": [],
   "source": [
    "!pip install pyestimate"
   ]
  },
  {
   "cell_type": "code",
   "execution_count": null,
   "id": "e27cac82-2f28-45fe-8c56-e9fa2e4e847c",
   "metadata": {},
   "outputs": [],
   "source": [
    "\n",
    "from pyestimate import sin_param_estimate\n",
    "\n",
    "#Defining angular range for background fitting (to subtract gaps) \n",
    "ind_ang = np.array([np.arange(0,26)])\n",
    "\n",
    "\n",
    "ind_ang1 = np.array([np.arange(0,26)])\n",
    "ind_ang2 = np.array([np.arange(66,113)])\n",
    "ind_ang3 = np.array([np.arange(118,180)])\n",
    "\n",
    "ind_ang = np.concatenate((ind_ang1,ind_ang2),axis=1)\n",
    "ind_ang = np.concatenate((ind_ang,ind_ang3),axis=1)\n",
    "print(ind_ang.shape)\n",
    "\n",
    "#Background subtraction and cropping\n",
    "data_azi = np.sum(data_scat[:,:,:,ind_q],axis=3) - 0.5*((len(ind_q)/len(ind_bg1))*np.sum(data_scat[:,:,:,ind_bg1],axis=3)+(len(ind_q)/len(ind_bg2))*np.sum(data_scat[:,:,:,ind_bg2],axis=3)) \n",
    "data_azi = np.vstack(data_azi)\n",
    "print(data_azi.shape)\n",
    "\n",
    "\n",
    "\n",
    "\n",
    "#A,f,phi = sin_param_estimate(data_azi[1000,:])\n",
    "A,f,phi = sin_param_estimate(data_azi[3000,:])\n",
    "#A,f,phi = sin_param_estimate(data_azi[5205,:])\n",
    "#A,f,phi = sin_param_estimate(data_azi[5314,:])\n",
    "\n",
    "print(A)\n",
    "print(f)\n",
    "print(phi)\n",
    "\n",
    "\n",
    "plt.figure()\n",
    "#plt.plot(data_azi[1000,:])\n",
    "#plt.plot(2*ind_ang, data_azi[5205, ind_ang])\n",
    "plt.plot(2*ind_ang, data_azi[3000, ind_ang])\n",
    "#plt.plot(data_azi[5314,:])\n",
    "#plt.plot(A*np.cos(2*np.pi*n*f+phi), 'r--')\n",
    "plt.title('degree_orient')\n",
    "plt.ylim([-1000,1000])\n",
    "plt.show()\n",
    "\n",
    "\n"
   ]
  },
  {
   "cell_type": "code",
   "execution_count": null,
   "id": "0f7c674e-60bf-4051-b342-c29a42952de7",
   "metadata": {},
   "outputs": [],
   "source": []
  },
  {
   "cell_type": "code",
   "execution_count": null,
   "id": "cd4726a4-1966-45d9-9bc6-e539d2af5772",
   "metadata": {},
   "outputs": [],
   "source": []
  }
 ],
 "metadata": {
  "kernelspec": {
   "display_name": "Python 3",
   "language": "python",
   "name": "python3"
  },
  "language_info": {
   "codemirror_mode": {
    "name": "ipython",
    "version": 3
   },
   "file_extension": ".py",
   "mimetype": "text/x-python",
   "name": "python",
   "nbconvert_exporter": "python",
   "pygments_lexer": "ipython3",
   "version": "3.9.5"
  }
 },
 "nbformat": 4,
 "nbformat_minor": 5
}
