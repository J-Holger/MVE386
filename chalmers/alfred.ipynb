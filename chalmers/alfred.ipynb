{
 "cells": [
  {
   "cell_type": "markdown",
   "metadata": {},
   "source": [
    "# Table of Contents\n",
    "1. [Introduction](#1-introduction)\n",
    "2. [Reading data](#2-reading-data)\n",
    "    - 2.1 [File Structure](#21-file-structure)\n",
    "    - 2.2 [Raw Data](#22-raw-data)\n",
    "3. [Integrate Data](#3-integrate-data)\n",
    "    - 3.1 [Determine Degree of Symmetry](#31-determine-degree-of-symmetry-azimuthalpolar-integration)\n",
    "    - 3.2 [Radial integration](#32-radial-integration)\n",
    "    - 3.3 [Reshape](#33-reshape)\n",
    "        - 3.3.1 [Plot Intensity on sample geometry](#331-plotting-intensity-on-sample-geometry-all-images)\n",
    "4. [](#4-curve-fitting)\n",
    "    - 4.1 [Removing Background Noise](#41-removing-background-noise)\n",
    "    - 4.1.1 [Plot Data Without Background Noise](#42-plot-data-without-background-noise)\n",
    "    - 4.2 [Fit Noise Free Data To Some Function](#43-fit-nosie-free-data-to-some-function)\n",
    "    - 4.3 [Plot Fitted Data](#44-plot-fitted-data)"
   ]
  },
  {
   "cell_type": "markdown",
   "metadata": {},
   "source": [
    "# 1 Introduction\n",
    "Some information about SAXS/WAXS and the experiments."
   ]
  },
  {
   "cell_type": "markdown",
   "metadata": {},
   "source": [
    "# 2 Reading data\n",
    "\n",
    "## 2.1 File Structure\n",
    "\n",
    "## 2.2 Raw Data"
   ]
  },
  {
   "cell_type": "markdown",
   "metadata": {},
   "source": [
    "# 3 Integrate Data\n",
    "Tetra Pak seems to refer to azimuthal integrated data as simply a conversion from $I(x, y) \\rightarrow I(\\theta, q)$, i.e. cartesian -> polar, which is done automatically by MAX IV. Don't know why they refer to it as azimuthal integrated data.\n",
    "\n",
    "## 3.1 Determine Degree of Symmetry (Azimuthal/Polar Integration)\n",
    "For some q-range, take integrate through all azimuthal angles $\\theta$, take the average over the q-range for each $\\theta$ angle. Then compute if there is \"large\" differences between different $\\theta$ directions.\n",
    "\n",
    "If there is not, we can use all $\\theta$ angles for radial integration (or any $\\theta$?).\n",
    "\n",
    "If there is differences, we later integrate radially in the interesting directions found.\n",
    "\n",
    "## 3.2 Radial integration\n",
    "Depending if we found that the sample was symmetrical or not, for specified $\\theta$ range, integrate across all $q$-values. From this we get I vs q data.\n",
    "\n",
    "## 3.3 Reshape\n",
    "The Images are ordered by the snake scan, starting in the top left, image 1 corresponds to column coordinate (0, 0). To make the order of $I$ relate to the spatial position of the sample, every other row needs to be flipped.\n",
    "\n",
    "### 3.3.1 Plotting intensity on sample geometry (all images)\n",
    "After reshaping I to match the spatial position of the sample, we can use the average the azimuthal integrated data (for each image), average across all q, to get the average total intensity for each position of the sample."
   ]
  },
  {
   "cell_type": "markdown",
   "metadata": {},
   "source": [
    "# 4 Curve fitting\n",
    "\n",
    "## 4.1 Removing background noise\n",
    "Simply subtract the bottom row of the reshaped I data from all the other rows of I.\n",
    "\n",
    "### 4.1.1 Plot data without background noise\n",
    "I vs q and d\n",
    "\n",
    "## 4.3 Fit nosie free data to some function\n",
    "Fourier series, Taylor series, multi-Gaussian fitting \n",
    "\n",
    "## 4.4 Plot fitted data\n",
    "I vs q and d"
   ]
  }
 ],
 "metadata": {
  "kernelspec": {
   "display_name": "Tetra_Pak",
   "language": "python",
   "name": "python3"
  },
  "language_info": {
   "name": "python",
   "version": "3.12.7"
  }
 },
 "nbformat": 4,
 "nbformat_minor": 2
}
